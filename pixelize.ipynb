{
 "cells": [
  {
   "cell_type": "code",
   "id": "initial_id",
   "metadata": {
    "collapsed": true,
    "ExecuteTime": {
     "end_time": "2024-11-22T08:06:49.306266Z",
     "start_time": "2024-11-22T08:06:49.303335Z"
    }
   },
   "source": "import cv2",
   "outputs": [],
   "execution_count": 17
  },
  {
   "metadata": {
    "ExecuteTime": {
     "end_time": "2024-11-22T08:06:49.421737Z",
     "start_time": "2024-11-22T08:06:49.399321Z"
    }
   },
   "cell_type": "code",
   "source": [
    "img = cv2.imread('papa.jpg')\n",
    "start_x = 190\n",
    "start_y = 80\n",
    "size = 1100\n",
    "img = img[start_y:start_y + size, start_x:start_x + size]\n"
   ],
   "id": "26049bae256844a4",
   "outputs": [],
   "execution_count": 18
  },
  {
   "metadata": {
    "ExecuteTime": {
     "end_time": "2024-11-22T08:06:49.449328Z",
     "start_time": "2024-11-22T08:06:49.445745Z"
    }
   },
   "cell_type": "code",
   "source": [
    "import numpy as np\n",
    "\n",
    "colors = [[[255, 102, 0], # orange\n",
    "          [255, 204, 0], # yellow\n",
    "          [255, 255, 153], # light yellow\n",
    "          [255,255,255], # white\n",
    "          [102, 204, 255], # blue\n",
    "          [191, 191, 191], # light gray\n",
    "          [89, 89, 89] # dark gray\n",
    "]]\n",
    "color_names =  ['orange', 'yellow', 'light yellow', 'white', 'blue', 'light gray', 'dark gray']\n",
    "\n",
    "colors = np.array(colors).astype(np.uint8)[:,:,::-1]"
   ],
   "id": "252286835eb7cfc7",
   "outputs": [],
   "execution_count": 19
  },
  {
   "metadata": {
    "ExecuteTime": {
     "end_time": "2024-11-22T08:06:49.495128Z",
     "start_time": "2024-11-22T08:06:49.492600Z"
    }
   },
   "cell_type": "code",
   "source": [
    "dst_size = 32\n",
    "papa_resized = cv2.resize(img, (dst_size, dst_size))"
   ],
   "id": "6dd6b29e82e3e505",
   "outputs": [],
   "execution_count": 20
  },
  {
   "metadata": {
    "ExecuteTime": {
     "end_time": "2024-11-22T11:07:56.834055Z",
     "start_time": "2024-11-22T11:07:56.830335Z"
    }
   },
   "cell_type": "code",
   "source": [
    "weights = np.array([1.5,1.4,1,1,1.7,0.8,1.5])\n",
    "\n",
    "# for i in range(1):\n",
    "papa_color_diff = papa_resized[:,:,None,:].astype(float) - colors[0, :, :].astype(float)\n",
    "papa_color_diff = np.linalg.norm(papa_color_diff, axis=-1) / weights\n",
    "papa_closest_color = np.argmin(papa_color_diff, axis=-1)\n",
    "    "
   ],
   "id": "fbebe7f903bd822a",
   "outputs": [],
   "execution_count": 46
  },
  {
   "metadata": {
    "ExecuteTime": {
     "end_time": "2024-11-22T11:08:00.093486Z",
     "start_time": "2024-11-22T11:08:00.090263Z"
    }
   },
   "cell_type": "code",
   "source": [
    "# corrections\n",
    "papa_resized_hsv = cv2.cvtColor(papa_resized, cv2.COLOR_BGR2HSV)\n",
    "bg = (papa_resized_hsv[:,:,0] > 69) & (papa_resized_hsv[:,:,0] < 97)\n",
    "papa_closest_color[bg] = 4\n",
    "papa_closest_color[15:17, 22] = 0\n",
    "# papa_closest_color[15, 21] = 1\n",
    "# papa_closest_color[:12, -12:][papa_closest_color[:12, -12:] == 6] = 4"
   ],
   "id": "bdacf8797f197791",
   "outputs": [],
   "execution_count": 47
  },
  {
   "metadata": {
    "ExecuteTime": {
     "end_time": "2024-11-22T11:08:00.527239Z",
     "start_time": "2024-11-22T11:08:00.524464Z"
    }
   },
   "cell_type": "code",
   "source": "recolored = colors[0, papa_closest_color]",
   "id": "8caf8ddd8f858ae",
   "outputs": [],
   "execution_count": 48
  },
  {
   "metadata": {
    "ExecuteTime": {
     "end_time": "2024-11-22T10:27:50.543404Z",
     "start_time": "2024-11-22T10:27:50.538648Z"
    }
   },
   "cell_type": "code",
   "source": "[(color_names[i], int((papa_closest_color==i).sum())) for i in range(colors.shape[1])]",
   "id": "3515a131350c57a5",
   "outputs": [
    {
     "data": {
      "text/plain": [
       "[('orange', 132),\n",
       " ('yellow', 101),\n",
       " ('light yellow', 131),\n",
       " ('white', 149),\n",
       " ('blue', 363),\n",
       " ('light gray', 91),\n",
       " ('dark gray', 57)]"
      ]
     },
     "execution_count": 32,
     "metadata": {},
     "output_type": "execute_result"
    }
   ],
   "execution_count": 32
  },
  {
   "metadata": {
    "ExecuteTime": {
     "end_time": "2024-11-22T08:06:49.784008Z",
     "start_time": "2024-11-22T08:06:49.782225Z"
    }
   },
   "cell_type": "code",
   "source": "# EXPORTING DATA",
   "id": "33d2741b9c0118f6",
   "outputs": [],
   "execution_count": null
  },
  {
   "metadata": {
    "ExecuteTime": {
     "end_time": "2024-11-22T15:05:34.099811Z",
     "start_time": "2024-11-22T15:05:34.096120Z"
    }
   },
   "cell_type": "code",
   "source": [
    "import json\n",
    "\n",
    "with open('instruction.json', 'w') as f:\n",
    "    json.dump({'color_idx': papa_closest_color.tolist(), 'colors': colors[0, :, :].tolist(), 'color_names': color_names}, f)"
   ],
   "id": "2fdb25fcadbf194b",
   "outputs": [],
   "execution_count": 50
  },
  {
   "metadata": {},
   "cell_type": "code",
   "outputs": [],
   "execution_count": null,
   "source": "",
   "id": "54bcba471070d8f2"
  }
 ],
 "metadata": {
  "kernelspec": {
   "display_name": "Python 3",
   "language": "python",
   "name": "python3"
  },
  "language_info": {
   "codemirror_mode": {
    "name": "ipython",
    "version": 2
   },
   "file_extension": ".py",
   "mimetype": "text/x-python",
   "name": "python",
   "nbconvert_exporter": "python",
   "pygments_lexer": "ipython2",
   "version": "2.7.6"
  }
 },
 "nbformat": 4,
 "nbformat_minor": 5
}
